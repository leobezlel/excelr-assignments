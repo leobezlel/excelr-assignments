{
  "nbformat": 4,
  "nbformat_minor": 0,
  "metadata": {
    "colab": {
      "provenance": [],
      "authorship_tag": "ABX9TyNsxZGBaqqOYUbBPWao5HCi",
      "include_colab_link": true
    },
    "kernelspec": {
      "name": "python3",
      "display_name": "Python 3"
    },
    "language_info": {
      "name": "python"
    }
  },
  "cells": [
    {
      "cell_type": "markdown",
      "metadata": {
        "id": "view-in-github",
        "colab_type": "text"
      },
      "source": [
        "<a href=\"https://colab.research.google.com/github/leobezlel/excelr-assignments/blob/main/Guess_the_number_(mini_project).ipynb\" target=\"_parent\"><img src=\"https://colab.research.google.com/assets/colab-badge.svg\" alt=\"Open In Colab\"/></a>"
      ]
    },
    {
      "cell_type": "code",
      "source": [
        "import random\n",
        "target = random.randint(1, 100)"
      ],
      "metadata": {
        "id": "SAP2UkePFGSi"
      },
      "execution_count": 12,
      "outputs": []
    },
    {
      "cell_type": "code",
      "source": [
        "while True:\n",
        "    userchoice = int(input(\"Guess the target:\"))\n",
        "    if (userchoice == target):\n",
        "        print(\"success : correct Guess!!\")\n",
        "        break\n",
        "    elif (userchoice < target):\n",
        "        print(\"your number was too small. take a bigger guess...!\")\n",
        "    else:\n",
        "        print(\"your number was too big. take a smaller guess...!\")\n",
        "\n",
        "print(\"----GAME OVER----\")"
      ],
      "metadata": {
        "colab": {
          "base_uri": "https://localhost:8080/"
        },
        "id": "pUK4tJPeGX7y",
        "outputId": "26df41da-096e-4429-c851-93442b3cd4a6"
      },
      "execution_count": 13,
      "outputs": [
        {
          "output_type": "stream",
          "name": "stdout",
          "text": [
            "Guess the target:96\n",
            "your number was too big. take a smaller guess...!\n",
            "Guess the target:65\n",
            "your number was too small. take a bigger guess...!\n",
            "Guess the target:75\n",
            "your number was too small. take a bigger guess...!\n",
            "Guess the target:70\n",
            "your number was too small. take a bigger guess...!\n",
            "Guess the target:80\n",
            "your number was too big. take a smaller guess...!\n",
            "Guess the target:90\n",
            "your number was too big. take a smaller guess...!\n",
            "Guess the target:85\n",
            "your number was too big. take a smaller guess...!\n",
            "Guess the target:86\n",
            "your number was too big. take a smaller guess...!\n",
            "Guess the target:76\n",
            "your number was too small. take a bigger guess...!\n",
            "Guess the target:78\n",
            "your number was too big. take a smaller guess...!\n",
            "Guess the target:77\n",
            "success : correct Guess!!\n",
            "----GAME OVER----\n"
          ]
        }
      ]
    }
  ]
}