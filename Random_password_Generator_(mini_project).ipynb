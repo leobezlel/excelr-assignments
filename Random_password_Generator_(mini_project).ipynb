{
  "nbformat": 4,
  "nbformat_minor": 0,
  "metadata": {
    "colab": {
      "provenance": [],
      "authorship_tag": "ABX9TyPG4dTfD85E89c35wphLfSz",
      "include_colab_link": true
    },
    "kernelspec": {
      "name": "python3",
      "display_name": "Python 3"
    },
    "language_info": {
      "name": "python"
    }
  },
  "cells": [
    {
      "cell_type": "markdown",
      "metadata": {
        "id": "view-in-github",
        "colab_type": "text"
      },
      "source": [
        "<a href=\"https://colab.research.google.com/github/leobezlel/excelr-assignments/blob/main/Random_password_Generator_(mini_project).ipynb\" target=\"_parent\"><img src=\"https://colab.research.google.com/assets/colab-badge.svg\" alt=\"Open In Colab\"/></a>"
      ]
    },
    {
      "cell_type": "code",
      "source": [
        "import random\n",
        "import string"
      ],
      "metadata": {
        "id": "8U0bBO0yQh31"
      },
      "execution_count": 9,
      "outputs": []
    },
    {
      "cell_type": "code",
      "source": [
        "pass_len = 10\n",
        "charvalues = string.ascii_letters + string.digits + string.punctuation"
      ],
      "metadata": {
        "id": "n3rxKWYQRESd"
      },
      "execution_count": 13,
      "outputs": []
    },
    {
      "cell_type": "code",
      "source": [
        "password = \"\"\n",
        "for i in range(pass_len):\n",
        "    password += random.choice(charvalues)\n",
        "\n",
        "print(\"your random password is:\", password)"
      ],
      "metadata": {
        "colab": {
          "base_uri": "https://localhost:8080/"
        },
        "id": "0mNTCBQ-RL2u",
        "outputId": "2896ef56-aa3f-4c7f-9aed-a6d347968b46"
      },
      "execution_count": 15,
      "outputs": [
        {
          "output_type": "stream",
          "name": "stdout",
          "text": [
            "your random password is: J'C(}l~'V_\n"
          ]
        }
      ]
    },
    {
      "cell_type": "code",
      "source": [
        "# list comprehension\n",
        "password = \"\".join([random.choice(charvalues) for i in range(pass_len)])\n",
        "print(\"your random password is:\", password)"
      ],
      "metadata": {
        "colab": {
          "base_uri": "https://localhost:8080/"
        },
        "id": "J-wZMvebSILa",
        "outputId": "67caa422-e8e2-439d-a83d-b9b7fef61c88"
      },
      "execution_count": 19,
      "outputs": [
        {
          "output_type": "stream",
          "name": "stdout",
          "text": [
            "your random password is: !MdX^LB]YA\n"
          ]
        }
      ]
    }
  ]
}